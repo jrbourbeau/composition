{
 "cells": [
  {
   "cell_type": "code",
   "execution_count": 1,
   "metadata": {
    "collapsed": false
   },
   "outputs": [
    {
     "name": "stderr",
     "output_type": "stream",
     "text": [
      "/home/jbourbeau/.local/lib/python2.7/site-packages/matplotlib/font_manager.py:273: UserWarning: Matplotlib is building the font cache using fc-list. This may take a moment.\n",
      "  warnings.warn('Matplotlib is building the font cache using fc-list. This may take a moment.')\n"
     ]
    }
   ],
   "source": [
    "from __future__ import division\n",
    "import argparse\n",
    "import numpy as np\n",
    "import pandas as pd\n",
    "import matplotlib.pyplot as plt\n",
    "from matplotlib.colors import ListedColormap\n",
    "import seaborn.apionly as sns\n",
    "\n",
    "from sklearn.metrics import accuracy_score\n",
    "from sklearn.neighbors import KNeighborsClassifier\n",
    "from sklearn.model_selection import validation_curve, GridSearchCV, cross_val_score\n",
    "\n",
    "from mlxtend.evaluate import plot_decision_regions\n",
    "\n",
    "from composition.analysis.load_sim import load_sim\n",
    "from composition.analysis.preprocessing import get_train_test_sets, LabelEncoder\n",
    "from composition.analysis.features import get_training_features\n",
    "from composition.analysis.pipelines import get_pipeline\n",
    "# from composition.analysis.plotting_functions import plot_decision_regions\n",
    "import composition.analysis.data_functions as data_functions\n",
    "from composition.support_functions.checkdir import checkdir\n",
    "\n",
    "%matplotlib inline"
   ]
  },
  {
   "cell_type": "code",
   "execution_count": 2,
   "metadata": {
    "collapsed": true
   },
   "outputs": [],
   "source": [
    "sns.set_palette('muted')\n",
    "sns.set_color_codes()"
   ]
  },
  {
   "cell_type": "code",
   "execution_count": 3,
   "metadata": {
    "collapsed": false
   },
   "outputs": [
    {
     "name": "stderr",
     "output_type": "stream",
     "text": [
      "/home/jbourbeau/composition/analysis/load_sim.py:41: RuntimeWarning: divide by zero encountered in log10\n",
      "  cut_dict['min_energy'] = (np.log10(df['reco_energy']) > 6.2)\n",
      "/home/jbourbeau/composition/analysis/load_sim.py:58: RuntimeWarning: divide by zero encountered in log10\n",
      "  df['reco_log_energy'] = np.nan_to_num(np.log10(df['reco_energy']))\n",
      "/home/jbourbeau/composition/analysis/load_sim.py:59: RuntimeWarning: invalid value encountered in log10\n",
      "  df['InIce_log_charge'] = np.nan_to_num(np.log10(df['InIce_charge']))\n"
     ]
    },
    {
     "name": "stdout",
     "output_type": "stream",
     "text": [
      "events = 81417\n"
     ]
    }
   ],
   "source": [
    "df, cut_dict = load_sim(return_cut_dict=True)\n",
    "selection_mask = np.array([True] * len(df))\n",
    "standard_cut_keys = ['reco_exists', 'reco_zenith', 'num_hits', 'IT_signal',\n",
    "                     'StationDensity', 'max_charge_frac', 'reco_containment', 'min_energy']\n",
    "for key in standard_cut_keys:\n",
    "    selection_mask *= cut_dict[key]\n",
    "\n",
    "df = df[selection_mask]\n",
    "\n",
    "feature_list = get_training_features()\n",
    "X_train, X_test, y_train, y_test, le = get_train_test_sets(df, feature_list)\n",
    "\n",
    "print('events = ' + str(y_train.shape[0]))"
   ]
  },
  {
   "cell_type": "code",
   "execution_count": null,
   "metadata": {
    "collapsed": false,
    "scrolled": true
   },
   "outputs": [
    {
     "name": "stdout",
     "output_type": "stream",
     "text": [
      "[CV] classifier__n_neighbors=1 .......................................\n",
      "[CV] classifier__n_neighbors=1001 ....................................\n",
      "[CV] classifier__n_neighbors=2001 ....................................\n",
      "[CV] classifier__n_neighbors=3001 ....................................\n",
      "[CV] classifier__n_neighbors=4001 ....................................\n",
      "[CV] classifier__n_neighbors=1 .......................................\n",
      "[CV] classifier__n_neighbors=1001 ....................................\n",
      "[CV] .............. classifier__n_neighbors=1, score=0.653341 -   0.4s\n",
      "[CV] classifier__n_neighbors=2001 ....................................\n",
      "[CV] classifier__n_neighbors=3001 ....................................\n",
      "[CV] classifier__n_neighbors=4001 ....................................\n",
      "[CV] classifier__n_neighbors=1 .......................................\n",
      "[CV] .............. classifier__n_neighbors=1, score=0.651990 -   1.4s\n",
      "[CV] classifier__n_neighbors=1001 ....................................\n",
      "[CV] .............. classifier__n_neighbors=1, score=0.649718 -   2.0s\n",
      "[CV] classifier__n_neighbors=2001 ....................................\n",
      "[CV] ........... classifier__n_neighbors=1001, score=0.731086 - 2.5min\n",
      "[CV] classifier__n_neighbors=3001 ....................................\n",
      "[CV] ........... classifier__n_neighbors=1001, score=0.734709 - 2.6min\n",
      "[CV] classifier__n_neighbors=4001 ....................................\n",
      "[CV] ........... classifier__n_neighbors=1001, score=0.736674 - 3.1min\n",
      "[CV] classifier__n_neighbors=1 .......................................\n",
      "[CV] .............. classifier__n_neighbors=1, score=0.651968 -   0.2s\n",
      "[CV] classifier__n_neighbors=1001 ....................................\n",
      "[CV] ........... classifier__n_neighbors=1001, score=0.735798 -   7.4s\n",
      "[CV] classifier__n_neighbors=2001 ....................................\n"
     ]
    },
    {
     "name": "stderr",
     "output_type": "stream",
     "text": [
      "[Parallel(n_jobs=10)]: Done   8 out of  25 | elapsed:  6.0min remaining: 12.7min\n"
     ]
    },
    {
     "name": "stdout",
     "output_type": "stream",
     "text": [
      "[CV] ........... classifier__n_neighbors=2001, score=0.728568 - 4.5min\n",
      "[CV] ........... classifier__n_neighbors=2001, score=0.732605 -  18.8s\n",
      "[CV] classifier__n_neighbors=3001 ....................................\n",
      "[CV] classifier__n_neighbors=4001 ....................................\n",
      "[CV] ........... classifier__n_neighbors=3001, score=0.725743 - 6.2min\n",
      "[CV] classifier__n_neighbors=1 .......................................\n",
      "[CV] .............. classifier__n_neighbors=1, score=0.653974 -   1.4s\n",
      "[CV] classifier__n_neighbors=1001 ....................................\n",
      "[CV] classifier__n_neighbors=2001 ....................................\n",
      "[CV] ........... classifier__n_neighbors=1001, score=0.731728 -   8.0s\n",
      "[CV] classifier__n_neighbors=3001 ....................................\n",
      "[CV] classifier__n_neighbors=4001 ....................................\n",
      "[CV] ........... classifier__n_neighbors=4001, score=0.721076 - 3.8min\n",
      "[CV] ........... classifier__n_neighbors=3001, score=0.727200 -  10.9s\n",
      "[CV] ........... classifier__n_neighbors=3001, score=0.723253 -  18.0s\n"
     ]
    },
    {
     "name": "stderr",
     "output_type": "stream",
     "text": [
      "Process PoolWorker-12:\n",
      "Traceback (most recent call last):\n",
      "  File \"/cvmfs/icecube.opensciencegrid.org/py2-v1/RHEL_6_x86_64/lib/python2.7/multiprocessing/process.py\", line 258, in _bootstrap\n",
      "Process PoolWorker-11:\n",
      "Process PoolWorker-13:\n",
      "Traceback (most recent call last):\n",
      "Traceback (most recent call last):\n",
      "  File \"/cvmfs/icecube.opensciencegrid.org/py2-v1/RHEL_6_x86_64/lib/python2.7/multiprocessing/process.py\", line 258, in _bootstrap\n",
      "  File \"/cvmfs/icecube.opensciencegrid.org/py2-v1/RHEL_6_x86_64/lib/python2.7/multiprocessing/process.py\", line 258, in _bootstrap\n",
      "    self.run()\n",
      "  File \"/cvmfs/icecube.opensciencegrid.org/py2-v1/RHEL_6_x86_64/lib/python2.7/multiprocessing/process.py\", line 114, in run\n",
      "    self.run()\n",
      "    self._target(*self._args, **self._kwargs)\n",
      "  File \"/cvmfs/icecube.opensciencegrid.org/py2-v1/RHEL_6_x86_64/lib/python2.7/multiprocessing/pool.py\", line 85, in worker\n",
      "    task = get()\n",
      "  File \"/cvmfs/icecube.opensciencegrid.org/py2-v1/RHEL_6_x86_64/lib/python2.7/multiprocessing/process.py\", line 114, in run\n",
      "    self.run()\n",
      "  File \"/home/jbourbeau/.local/lib/python2.7/site-packages/sklearn/externals/joblib/pool.py\", line 360, in get\n",
      "    self._target(*self._args, **self._kwargs)\n",
      "  File \"/cvmfs/icecube.opensciencegrid.org/py2-v1/RHEL_6_x86_64/lib/python2.7/multiprocessing/pool.py\", line 85, in worker\n",
      "  File \"/cvmfs/icecube.opensciencegrid.org/py2-v1/RHEL_6_x86_64/lib/python2.7/multiprocessing/process.py\", line 114, in run\n",
      "    task = get()\n",
      "  File \"/home/jbourbeau/.local/lib/python2.7/site-packages/sklearn/externals/joblib/pool.py\", line 360, in get\n",
      "    self._target(*self._args, **self._kwargs)\n",
      "  File \"/cvmfs/icecube.opensciencegrid.org/py2-v1/RHEL_6_x86_64/lib/python2.7/multiprocessing/pool.py\", line 85, in worker\n",
      "    task = get()\n",
      "  File \"/home/jbourbeau/.local/lib/python2.7/site-packages/sklearn/externals/joblib/pool.py\", line 360, in get\n",
      "    racquire()\n",
      "KeyboardInterrupt\n",
      "Process PoolWorker-4:\n",
      "Process PoolWorker-3:\n",
      "Traceback (most recent call last):\n",
      "  File \"/cvmfs/icecube.opensciencegrid.org/py2-v1/RHEL_6_x86_64/lib/python2.7/multiprocessing/process.py\", line 258, in _bootstrap\n",
      "Traceback (most recent call last):\n",
      "  File \"/cvmfs/icecube.opensciencegrid.org/py2-v1/RHEL_6_x86_64/lib/python2.7/multiprocessing/process.py\", line 258, in _bootstrap\n",
      "    self.run()\n",
      "    racquire()\n",
      "    racquire()\n",
      "KeyboardInterrupt\n",
      "KeyboardInterrupt\n",
      "  File \"/cvmfs/icecube.opensciencegrid.org/py2-v1/RHEL_6_x86_64/lib/python2.7/multiprocessing/process.py\", line 114, in run\n",
      "    self._target(*self._args, **self._kwargs)\n",
      "    self.run()\n",
      "  File \"/cvmfs/icecube.opensciencegrid.org/py2-v1/RHEL_6_x86_64/lib/python2.7/multiprocessing/process.py\", line 114, in run\n",
      "    self._target(*self._args, **self._kwargs)\n",
      "  File \"/cvmfs/icecube.opensciencegrid.org/py2-v1/RHEL_6_x86_64/lib/python2.7/multiprocessing/pool.py\", line 85, in worker\n",
      "Process PoolWorker-6:\n",
      "Traceback (most recent call last):\n",
      "  File \"/cvmfs/icecube.opensciencegrid.org/py2-v1/RHEL_6_x86_64/lib/python2.7/multiprocessing/process.py\", line 258, in _bootstrap\n",
      "  File \"/cvmfs/icecube.opensciencegrid.org/py2-v1/RHEL_6_x86_64/lib/python2.7/multiprocessing/pool.py\", line 85, in worker\n",
      "    task = get()\n",
      "    task = get()\n",
      "  File \"/home/jbourbeau/.local/lib/python2.7/site-packages/sklearn/externals/joblib/pool.py\", line 360, in get\n",
      "  File \"/home/jbourbeau/.local/lib/python2.7/site-packages/sklearn/externals/joblib/pool.py\", line 360, in get\n",
      "    racquire()\n",
      "KeyboardInterrupt\n",
      "    racquire()\n",
      "KeyboardInterrupt\n",
      "    self.run()\n",
      "  File \"/cvmfs/icecube.opensciencegrid.org/py2-v1/RHEL_6_x86_64/lib/python2.7/multiprocessing/process.py\", line 114, in run\n",
      "    self._target(*self._args, **self._kwargs)\n",
      "  File \"/cvmfs/icecube.opensciencegrid.org/py2-v1/RHEL_6_x86_64/lib/python2.7/multiprocessing/pool.py\", line 85, in worker\n",
      "    task = get()\n",
      "  File \"/home/jbourbeau/.local/lib/python2.7/site-packages/sklearn/externals/joblib/pool.py\", line 362, in get\n",
      "    return recv()\n",
      "KeyboardInterrupt\n",
      "Process PoolWorker-19:\n",
      "Process PoolWorker-17:\n",
      "Process PoolWorker-18:\n",
      "Process PoolWorker-16:\n",
      "Traceback (most recent call last):\n",
      "Traceback (most recent call last):\n",
      "Traceback (most recent call last):\n",
      "Process PoolWorker-14:\n",
      "Traceback (most recent call last):\n",
      "  File \"/cvmfs/icecube.opensciencegrid.org/py2-v1/RHEL_6_x86_64/lib/python2.7/multiprocessing/process.py\", line 258, in _bootstrap\n",
      "  File \"/cvmfs/icecube.opensciencegrid.org/py2-v1/RHEL_6_x86_64/lib/python2.7/multiprocessing/process.py\", line 258, in _bootstrap\n",
      "  File \"/cvmfs/icecube.opensciencegrid.org/py2-v1/RHEL_6_x86_64/lib/python2.7/multiprocessing/process.py\", line 258, in _bootstrap\n",
      "  File \"/cvmfs/icecube.opensciencegrid.org/py2-v1/RHEL_6_x86_64/lib/python2.7/multiprocessing/process.py\", line 258, in _bootstrap\n",
      "    self.run()\n",
      "    self.run()\n",
      "    self.run()\n",
      "    self.run()\n",
      "Traceback (most recent call last):\n",
      "  File \"/cvmfs/icecube.opensciencegrid.org/py2-v1/RHEL_6_x86_64/lib/python2.7/multiprocessing/process.py\", line 114, in run\n",
      "  File \"/cvmfs/icecube.opensciencegrid.org/py2-v1/RHEL_6_x86_64/lib/python2.7/multiprocessing/process.py\", line 114, in run\n",
      "  File \"/cvmfs/icecube.opensciencegrid.org/py2-v1/RHEL_6_x86_64/lib/python2.7/multiprocessing/process.py\", line 114, in run\n",
      "  File \"/cvmfs/icecube.opensciencegrid.org/py2-v1/RHEL_6_x86_64/lib/python2.7/multiprocessing/process.py\", line 114, in run\n",
      "    self._target(*self._args, **self._kwargs)\n",
      "    self._target(*self._args, **self._kwargs)\n",
      "    self._target(*self._args, **self._kwargs)\n",
      "    self._target(*self._args, **self._kwargs)\n",
      "  File \"/cvmfs/icecube.opensciencegrid.org/py2-v1/RHEL_6_x86_64/lib/python2.7/multiprocessing/process.py\", line 258, in _bootstrap\n",
      "  File \"/cvmfs/icecube.opensciencegrid.org/py2-v1/RHEL_6_x86_64/lib/python2.7/multiprocessing/pool.py\", line 85, in worker\n",
      "  File \"/cvmfs/icecube.opensciencegrid.org/py2-v1/RHEL_6_x86_64/lib/python2.7/multiprocessing/pool.py\", line 85, in worker\n",
      "  File \"/cvmfs/icecube.opensciencegrid.org/py2-v1/RHEL_6_x86_64/lib/python2.7/multiprocessing/pool.py\", line 85, in worker\n",
      "  File \"/cvmfs/icecube.opensciencegrid.org/py2-v1/RHEL_6_x86_64/lib/python2.7/multiprocessing/pool.py\", line 85, in worker\n",
      "    task = get()\n",
      "    task = get()\n",
      "    task = get()\n",
      "    task = get()\n",
      "    self.run()\n",
      "  File \"/home/jbourbeau/.local/lib/python2.7/site-packages/sklearn/externals/joblib/pool.py\", line 360, in get\n",
      "  File \"/home/jbourbeau/.local/lib/python2.7/site-packages/sklearn/externals/joblib/pool.py\", line 360, in get\n",
      "  File \"/home/jbourbeau/.local/lib/python2.7/site-packages/sklearn/externals/joblib/pool.py\", line 360, in get\n",
      "  File \"/home/jbourbeau/.local/lib/python2.7/site-packages/sklearn/externals/joblib/pool.py\", line 360, in get\n",
      "  File \"/cvmfs/icecube.opensciencegrid.org/py2-v1/RHEL_6_x86_64/lib/python2.7/multiprocessing/process.py\", line 114, in run\n",
      "    racquire()\n",
      "    racquire()\n",
      "    racquire()\n",
      "KeyboardInterrupt\n",
      "KeyboardInterrupt\n",
      "KeyboardInterrupt\n",
      "    racquire()\n",
      "    self._target(*self._args, **self._kwargs)\n",
      "KeyboardInterrupt\n",
      "  File \"/cvmfs/icecube.opensciencegrid.org/py2-v1/RHEL_6_x86_64/lib/python2.7/multiprocessing/pool.py\", line 85, in worker\n",
      "    task = get()\n",
      "  File \"/home/jbourbeau/.local/lib/python2.7/site-packages/sklearn/externals/joblib/pool.py\", line 362, in get\n",
      "    return recv()\n",
      "KeyboardInterrupt\n"
     ]
    }
   ],
   "source": [
    "pipeline = get_pipeline('KN')\n",
    "param_range = np.arange(1, 5000, 1000)\n",
    "train_scores, test_scores = validation_curve(\n",
    "                estimator=pipeline, \n",
    "                X=X_train, \n",
    "                y=y_train, \n",
    "                param_name='classifier__n_neighbors', \n",
    "                param_range=param_range,\n",
    "                cv=5,\n",
    "                verbose=3,\n",
    "                n_jobs=10)\n",
    "\n",
    "train_mean = np.mean(train_scores, axis=1)\n",
    "train_std = np.std(train_scores, axis=1)\n",
    "test_mean = np.mean(test_scores, axis=1)\n",
    "test_std = np.std(test_scores, axis=1)\n",
    "\n",
    "plt.plot(param_range, train_mean, \n",
    "         color='b', marker='o', \n",
    "         markersize=5, label='training accuracy')\n",
    "\n",
    "plt.fill_between(param_range, train_mean + train_std,\n",
    "                 train_mean - train_std, alpha=0.15,\n",
    "                 color='b')\n",
    "\n",
    "plt.plot(param_range, test_mean, \n",
    "         color='g', linestyle='None', \n",
    "         marker='s', markersize=5, \n",
    "         label='validation accuracy')\n",
    "\n",
    "plt.fill_between(param_range, \n",
    "                 test_mean + test_std,\n",
    "                 test_mean - test_std, \n",
    "                 alpha=0.15, color='g')\n",
    "\n",
    "plt.grid()\n",
    "# plt.xscale('log')\n",
    "plt.legend(loc='lower right')\n",
    "plt.xlabel('Number neighbors')\n",
    "plt.ylabel('Accuracy [\\%]')\n",
    "# plt.ylim([0.8, 1.0])\n",
    "# plt.tight_layout()\n",
    "plt.savefig('/home/jbourbeau/public_html/figures/composition/parameter-tuning/KN-validation_curve.png', dpi=300)\n",
    "# plt.show()"
   ]
  },
  {
   "cell_type": "code",
   "execution_count": 4,
   "metadata": {
    "collapsed": false
   },
   "outputs": [
    {
     "ename": "ValueError",
     "evalue": "X cannot have more than 2 feature columns",
     "output_type": "error",
     "traceback": [
      "\u001b[0;31m\u001b[0m",
      "\u001b[0;31mValueError\u001b[0mTraceback (most recent call last)",
      "\u001b[0;32m<ipython-input-4-8c900f018ece>\u001b[0m in \u001b[0;36m<module>\u001b[0;34m()\u001b[0m\n\u001b[1;32m      9\u001b[0m     \u001b[0mclf\u001b[0m \u001b[0;34m=\u001b[0m \u001b[0mpipeline\u001b[0m\u001b[0;34m.\u001b[0m\u001b[0mnamed_steps\u001b[0m\u001b[0;34m[\u001b[0m\u001b[0;34m'classifier'\u001b[0m\u001b[0;34m]\u001b[0m\u001b[0;34m\u001b[0m\u001b[0m\n\u001b[1;32m     10\u001b[0m     \u001b[0mX_test_std\u001b[0m \u001b[0;34m=\u001b[0m \u001b[0mscaler\u001b[0m\u001b[0;34m.\u001b[0m\u001b[0mtransform\u001b[0m\u001b[0;34m(\u001b[0m\u001b[0mX_test\u001b[0m\u001b[0;34m)\u001b[0m\u001b[0;34m\u001b[0m\u001b[0m\n\u001b[0;32m---> 11\u001b[0;31m     \u001b[0mplot_decision_regions\u001b[0m\u001b[0;34m(\u001b[0m\u001b[0mX_test_std\u001b[0m\u001b[0;34m,\u001b[0m \u001b[0my_test\u001b[0m\u001b[0;34m,\u001b[0m \u001b[0mclf\u001b[0m\u001b[0;34m,\u001b[0m \u001b[0max\u001b[0m\u001b[0;34m=\u001b[0m\u001b[0max\u001b[0m\u001b[0;34m)\u001b[0m\u001b[0;34m\u001b[0m\u001b[0m\n\u001b[0m\u001b[1;32m     12\u001b[0m \u001b[0;31m#     plot_decision_regions(X_test_std, y_test, clf, scatter_fraction=None, ax=ax)\u001b[0m\u001b[0;34m\u001b[0m\u001b[0;34m\u001b[0m\u001b[0m\n\u001b[1;32m     13\u001b[0m     \u001b[0;31m# Adding axes annotations\u001b[0m\u001b[0;34m\u001b[0m\u001b[0;34m\u001b[0m\u001b[0m\n",
      "\u001b[0;32m/home/jbourbeau/.local/lib/python2.7/site-packages/mlxtend/evaluate/decision_regions.pyc\u001b[0m in \u001b[0;36mplot_decision_regions\u001b[0;34m(X, y, clf, ax, X_highlight, res, legend, hide_spines, markers, colors)\u001b[0m\n\u001b[1;32m     77\u001b[0m         \u001b[0;32mraise\u001b[0m \u001b[0mValueError\u001b[0m\u001b[0;34m(\u001b[0m\u001b[0;34m'X must be a 2D array'\u001b[0m\u001b[0;34m)\u001b[0m\u001b[0;34m\u001b[0m\u001b[0m\n\u001b[1;32m     78\u001b[0m     \u001b[0;32mif\u001b[0m \u001b[0mX\u001b[0m\u001b[0;34m.\u001b[0m\u001b[0mshape\u001b[0m\u001b[0;34m[\u001b[0m\u001b[0;36m1\u001b[0m\u001b[0;34m]\u001b[0m \u001b[0;34m>\u001b[0m \u001b[0;36m2\u001b[0m\u001b[0;34m:\u001b[0m\u001b[0;34m\u001b[0m\u001b[0m\n\u001b[0;32m---> 79\u001b[0;31m         \u001b[0;32mraise\u001b[0m \u001b[0mValueError\u001b[0m\u001b[0;34m(\u001b[0m\u001b[0;34m'X cannot have more than 2 feature columns'\u001b[0m\u001b[0;34m)\u001b[0m\u001b[0;34m\u001b[0m\u001b[0m\n\u001b[0m\u001b[1;32m     80\u001b[0m     \u001b[0;32melif\u001b[0m \u001b[0misinstance\u001b[0m\u001b[0;34m(\u001b[0m\u001b[0mX_highlight\u001b[0m\u001b[0;34m,\u001b[0m \u001b[0mnp\u001b[0m\u001b[0;34m.\u001b[0m\u001b[0mndarray\u001b[0m\u001b[0;34m)\u001b[0m \u001b[0;32mand\u001b[0m \u001b[0mlen\u001b[0m\u001b[0;34m(\u001b[0m\u001b[0mX_highlight\u001b[0m\u001b[0;34m.\u001b[0m\u001b[0mshape\u001b[0m\u001b[0;34m)\u001b[0m \u001b[0;34m>\u001b[0m \u001b[0;36m2\u001b[0m\u001b[0;34m:\u001b[0m\u001b[0;34m\u001b[0m\u001b[0m\n\u001b[1;32m     81\u001b[0m         \u001b[0;32mraise\u001b[0m \u001b[0mValueError\u001b[0m\u001b[0;34m(\u001b[0m\u001b[0;34m'X_highlight must be a 2D array'\u001b[0m\u001b[0;34m)\u001b[0m\u001b[0;34m\u001b[0m\u001b[0m\n",
      "\u001b[0;31mValueError\u001b[0m: X cannot have more than 2 feature columns"
     ]
    },
    {
     "data": {
      "image/png": "[encoded data removed]",
      "text/plain": [
       "<matplotlib.figure.Figure at 0x20f53d0>"
      ]
     },
     "metadata": {},
     "output_type": "display_data"
    }
   ],
   "source": [
    "n_neighbors_list = [3, 50, 100, 200]\n",
    "\n",
    "fig, axarr = plt.subplots(2,2)\n",
    "for num, ax in zip(n_neighbors_list, axarr.flatten()):\n",
    "    pipeline = get_pipeline('KN')\n",
    "    pipeline.named_steps['classifier'].set_params(n_neighbors=num)\n",
    "    pipeline.fit(X_train, y_train)\n",
    "    scaler = pipeline.named_steps['scaler']\n",
    "    clf = pipeline.named_steps['classifier']\n",
    "    X_test_std = scaler.transform(X_test)\n",
    "    plot_decision_regions(X_test_std, y_test, clf, ax=ax)\n",
    "#     plot_decision_regions(X_test_std, y_test, clf, scatter_fraction=None, ax=ax)\n",
    "    # Adding axes annotations\n",
    "    ax.set_xlabel('Scaled energy')\n",
    "    ax.set_ylabel('Scaled charge')\n",
    "    ax.set_title('Number neighbors = {}'.format(num))\n",
    "    ax.legend()\n",
    "    # outfile = args.outdir + \\\n",
    "    #     '/{}-decision-regions_{}-energy.png'.format(\n",
    "    #         args.classifier, args.energy)\n",
    "    # plt.savefig(outfile)\n",
    "plt.tight_layout()\n",
    "# plt.show()\n",
    "plt.savefig('/home/jbourbeau/public_html/figures/composition/parameter-tuning/KN-decision-regions.png')\n"
   ]
  },
  {
   "cell_type": "code",
   "execution_count": null,
   "metadata": {
    "collapsed": true
   },
   "outputs": [],
   "source": []
  }
 ],
 "metadata": {
  "kernelspec": {
   "display_name": "Python 2",
   "language": "python",
   "name": "python2"
  },
  "language_info": {
   "codemirror_mode": {
    "name": "ipython",
    "version": 2
   },
   "file_extension": ".py",
   "mimetype": "text/x-python",
   "name": "python",
   "nbconvert_exporter": "python",
   "pygments_lexer": "ipython2",
   "version": "2.7.3"
  }
 },
 "nbformat": 4,
 "nbformat_minor": 1
}
